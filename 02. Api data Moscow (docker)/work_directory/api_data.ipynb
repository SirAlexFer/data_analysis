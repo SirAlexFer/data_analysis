{
 "cells": [
  {
   "cell_type": "code",
   "execution_count": 22,
   "id": "45c2f87a-35aa-4a5e-b426-61e34368aefb",
   "metadata": {},
   "outputs": [
    {
     "data": {
      "text/plain": [
       "True"
      ]
     },
     "execution_count": 22,
     "metadata": {},
     "output_type": "execute_result"
    }
   ],
   "source": [
    "from dotenv import load_dotenv\n",
    "import os\n",
    "\n",
    "import pandas as pd\n",
    "import requests\n",
    "\n",
    "\n",
    "load_dotenv()"
   ]
  },
  {
   "cell_type": "markdown",
   "id": "5e21a8f9-476c-4298-91ec-30ca7f067d66",
   "metadata": {},
   "source": [
    "# Константы"
   ]
  },
  {
   "cell_type": "code",
   "execution_count": 23,
   "id": "dc54adb2-7a98-46a2-80f0-6aaf0307e3d7",
   "metadata": {},
   "outputs": [],
   "source": [
    "TOKEN_MOSCOW = os.getenv('TOKEN_MOSCOW')"
   ]
  },
  {
   "cell_type": "code",
   "execution_count": 24,
   "id": "387c2bb8-70c4-4412-be2d-cb78c92bdfd4",
   "metadata": {},
   "outputs": [],
   "source": [
    "URL_BASE = 'apidata.mos.ru'"
   ]
  },
  {
   "cell_type": "code",
   "execution_count": 25,
   "id": "62bc357e-329f-497d-b64f-1d52a5e6ff6e",
   "metadata": {},
   "outputs": [],
   "source": [
    "params = {\n",
    "    'api_key': TOKEN_MOSCOW\n",
    "}"
   ]
  },
  {
   "cell_type": "markdown",
   "id": "9a24e22b-297a-4a9d-8615-d4c96621f574",
   "metadata": {},
   "source": [
    "## Получить текущую версию API"
   ]
  },
  {
   "cell_type": "code",
   "execution_count": 26,
   "id": "f2a64deb-e88d-409f-b4fd-91865b466385",
   "metadata": {},
   "outputs": [],
   "source": [
    "url_version = f'https://{URL_BASE}/version'"
   ]
  },
  {
   "cell_type": "code",
   "execution_count": 27,
   "id": "1c2860fb-8f92-4229-a72c-4ed140967c6d",
   "metadata": {},
   "outputs": [],
   "source": [
    "response = requests.get(url_version, params=params)"
   ]
  },
  {
   "cell_type": "code",
   "execution_count": 28,
   "id": "399bb6e2-14e3-4125-ba26-1c8d8b29abcb",
   "metadata": {},
   "outputs": [
    {
     "name": "stdout",
     "output_type": "stream",
     "text": [
      "Версия API:  1\n"
     ]
    }
   ],
   "source": [
    "print('Версия API: ', response.json().get('Version'))"
   ]
  },
  {
   "cell_type": "markdown",
   "id": "32ed7cda-98a0-416f-b476-3eb8e4c0035e",
   "metadata": {},
   "source": [
    "## Получить список наборов данных"
   ]
  },
  {
   "cell_type": "code",
   "execution_count": 29,
   "id": "ae54ada0-4458-48c1-8f3a-fde5cb79b120",
   "metadata": {},
   "outputs": [],
   "source": [
    "url_datasets = f'https://{URL_BASE}/v1/datasets'"
   ]
  },
  {
   "cell_type": "code",
   "execution_count": 30,
   "id": "64d2c62c-826b-47ca-a443-e631fd9bf174",
   "metadata": {},
   "outputs": [],
   "source": [
    "params_datasets = params.copy()\n",
    "params_datasets['$inlinecount'] = 'allpages'\n",
    "params_datasets['$top'] = 20\n"
   ]
  },
  {
   "cell_type": "code",
   "execution_count": 31,
   "id": "996de805-8a97-4465-8ecd-dab54847647d",
   "metadata": {},
   "outputs": [],
   "source": [
    "response = requests.get(url_datasets, params=params_datasets)"
   ]
  },
  {
   "cell_type": "code",
   "execution_count": 32,
   "id": "4a07013c-383c-4866-bec5-9afe0b37010f",
   "metadata": {},
   "outputs": [],
   "source": [
    "df_datasets = pd.DataFrame(response.json().get('Items'))"
   ]
  },
  {
   "cell_type": "code",
   "execution_count": 33,
   "id": "da1f4b44-caa5-43b4-ba4c-f16e1864cee8",
   "metadata": {},
   "outputs": [
    {
     "data": {
      "text/html": [
       "<div>\n",
       "<style scoped>\n",
       "    .dataframe tbody tr th:only-of-type {\n",
       "        vertical-align: middle;\n",
       "    }\n",
       "\n",
       "    .dataframe tbody tr th {\n",
       "        vertical-align: top;\n",
       "    }\n",
       "\n",
       "    .dataframe thead th {\n",
       "        text-align: right;\n",
       "    }\n",
       "</style>\n",
       "<table border=\"1\" class=\"dataframe\">\n",
       "  <thead>\n",
       "    <tr style=\"text-align: right;\">\n",
       "      <th></th>\n",
       "      <th>CategoryId</th>\n",
       "      <th>PublishDate</th>\n",
       "      <th>Keywords</th>\n",
       "      <th>IdentificationNumber</th>\n",
       "      <th>ContainsGeodata</th>\n",
       "      <th>IsSeasonal</th>\n",
       "      <th>IsNew</th>\n",
       "      <th>VersionNumber</th>\n",
       "      <th>Caption</th>\n",
       "      <th>ContainsAccEnvData</th>\n",
       "      <th>IsForeign</th>\n",
       "      <th>IsArchive</th>\n",
       "      <th>SefUrl</th>\n",
       "      <th>Id</th>\n",
       "      <th>ReleaseNumber</th>\n",
       "      <th>DepartmentId</th>\n",
       "      <th>Season</th>\n",
       "      <th>FullDescription</th>\n",
       "      <th>LastUpdateDate</th>\n",
       "    </tr>\n",
       "  </thead>\n",
       "  <tbody>\n",
       "    <tr>\n",
       "      <th>15</th>\n",
       "      <td>104</td>\n",
       "      <td>2013-10-07</td>\n",
       "      <td>бесплатное детское питание, грудничок, детский...</td>\n",
       "      <td>7707089084-Dairyspecialties</td>\n",
       "      <td>True</td>\n",
       "      <td>False</td>\n",
       "      <td>False</td>\n",
       "      <td>2</td>\n",
       "      <td>Молочные кухни</td>\n",
       "      <td>True</td>\n",
       "      <td>False</td>\n",
       "      <td>False</td>\n",
       "      <td>None</td>\n",
       "      <td>512</td>\n",
       "      <td>390</td>\n",
       "      <td>1002</td>\n",
       "      <td>0</td>\n",
       "      <td>&lt;p style=\"margin-left:0cm; margin-right:0cm; t...</td>\n",
       "      <td>2025-01-06</td>\n",
       "    </tr>\n",
       "    <tr>\n",
       "      <th>16</th>\n",
       "      <td>104</td>\n",
       "      <td>2013-10-07</td>\n",
       "      <td>акушеры, беременность, здоровье, здравоохранен...</td>\n",
       "      <td>7707089084-MaternityHomes</td>\n",
       "      <td>True</td>\n",
       "      <td>False</td>\n",
       "      <td>False</td>\n",
       "      <td>2</td>\n",
       "      <td>Родильные дома</td>\n",
       "      <td>True</td>\n",
       "      <td>False</td>\n",
       "      <td>False</td>\n",
       "      <td>None</td>\n",
       "      <td>514</td>\n",
       "      <td>361</td>\n",
       "      <td>1002</td>\n",
       "      <td>0</td>\n",
       "      <td>&lt;p style=\"margin-left:0cm; margin-right:0cm; t...</td>\n",
       "      <td>2024-12-27</td>\n",
       "    </tr>\n",
       "    <tr>\n",
       "      <th>17</th>\n",
       "      <td>104</td>\n",
       "      <td>2013-10-07</td>\n",
       "      <td>донор, донорство, здоровье, здравоохранение, к...</td>\n",
       "      <td>7707089084-donation</td>\n",
       "      <td>True</td>\n",
       "      <td>False</td>\n",
       "      <td>False</td>\n",
       "      <td>2</td>\n",
       "      <td>Станции переливания крови</td>\n",
       "      <td>True</td>\n",
       "      <td>False</td>\n",
       "      <td>False</td>\n",
       "      <td>None</td>\n",
       "      <td>515</td>\n",
       "      <td>320</td>\n",
       "      <td>1002</td>\n",
       "      <td>0</td>\n",
       "      <td>&lt;p style=\"margin-left:0cm; margin-right:0cm; t...</td>\n",
       "      <td>2024-12-27</td>\n",
       "    </tr>\n",
       "    <tr>\n",
       "      <th>18</th>\n",
       "      <td>104</td>\n",
       "      <td>2013-10-31</td>\n",
       "      <td>бригада скорой помощи, вызвать врача, вызов ск...</td>\n",
       "      <td>7707089084-medicalemergency</td>\n",
       "      <td>True</td>\n",
       "      <td>False</td>\n",
       "      <td>False</td>\n",
       "      <td>2</td>\n",
       "      <td>Скорая и неотложная медицинская помощь</td>\n",
       "      <td>True</td>\n",
       "      <td>False</td>\n",
       "      <td>False</td>\n",
       "      <td>None</td>\n",
       "      <td>516</td>\n",
       "      <td>169</td>\n",
       "      <td>1002</td>\n",
       "      <td>0</td>\n",
       "      <td>&lt;p style=\"margin-left:0cm; margin-right:0cm; t...</td>\n",
       "      <td>2025-01-03</td>\n",
       "    </tr>\n",
       "    <tr>\n",
       "      <th>19</th>\n",
       "      <td>104</td>\n",
       "      <td>2013-10-07</td>\n",
       "      <td>больница, больница клиническая, больницы взрос...</td>\n",
       "      <td>7707089084-clinics</td>\n",
       "      <td>True</td>\n",
       "      <td>False</td>\n",
       "      <td>False</td>\n",
       "      <td>2</td>\n",
       "      <td>Больницы взрослые</td>\n",
       "      <td>True</td>\n",
       "      <td>False</td>\n",
       "      <td>False</td>\n",
       "      <td>None</td>\n",
       "      <td>517</td>\n",
       "      <td>522</td>\n",
       "      <td>1002</td>\n",
       "      <td>0</td>\n",
       "      <td>&lt;p&gt;&lt;span style=\"font-family:tahoma,geneva,sans...</td>\n",
       "      <td>2024-12-27</td>\n",
       "    </tr>\n",
       "  </tbody>\n",
       "</table>\n",
       "</div>"
      ],
      "text/plain": [
       "    CategoryId PublishDate                                           Keywords  \\\n",
       "15         104  2013-10-07  бесплатное детское питание, грудничок, детский...   \n",
       "16         104  2013-10-07  акушеры, беременность, здоровье, здравоохранен...   \n",
       "17         104  2013-10-07  донор, донорство, здоровье, здравоохранение, к...   \n",
       "18         104  2013-10-31  бригада скорой помощи, вызвать врача, вызов ск...   \n",
       "19         104  2013-10-07  больница, больница клиническая, больницы взрос...   \n",
       "\n",
       "           IdentificationNumber  ContainsGeodata  IsSeasonal  IsNew  \\\n",
       "15  7707089084-Dairyspecialties             True       False  False   \n",
       "16    7707089084-MaternityHomes             True       False  False   \n",
       "17          7707089084-donation             True       False  False   \n",
       "18  7707089084-medicalemergency             True       False  False   \n",
       "19           7707089084-clinics             True       False  False   \n",
       "\n",
       "    VersionNumber                                 Caption  ContainsAccEnvData  \\\n",
       "15              2                          Молочные кухни                True   \n",
       "16              2                          Родильные дома                True   \n",
       "17              2               Станции переливания крови                True   \n",
       "18              2  Скорая и неотложная медицинская помощь                True   \n",
       "19              2                       Больницы взрослые                True   \n",
       "\n",
       "    IsForeign  IsArchive SefUrl   Id  ReleaseNumber  DepartmentId  Season  \\\n",
       "15      False      False   None  512            390          1002       0   \n",
       "16      False      False   None  514            361          1002       0   \n",
       "17      False      False   None  515            320          1002       0   \n",
       "18      False      False   None  516            169          1002       0   \n",
       "19      False      False   None  517            522          1002       0   \n",
       "\n",
       "                                      FullDescription LastUpdateDate  \n",
       "15  <p style=\"margin-left:0cm; margin-right:0cm; t...     2025-01-06  \n",
       "16  <p style=\"margin-left:0cm; margin-right:0cm; t...     2024-12-27  \n",
       "17  <p style=\"margin-left:0cm; margin-right:0cm; t...     2024-12-27  \n",
       "18  <p style=\"margin-left:0cm; margin-right:0cm; t...     2025-01-03  \n",
       "19  <p><span style=\"font-family:tahoma,geneva,sans...     2024-12-27  "
      ]
     },
     "execution_count": 33,
     "metadata": {},
     "output_type": "execute_result"
    }
   ],
   "source": [
    "df_datasets.tail()"
   ]
  },
  {
   "cell_type": "markdown",
   "id": "0a7521aa-5711-48e5-88a2-d4dfbe4b66f4",
   "metadata": {},
   "source": [
    "## Получить содержимое наборов данных"
   ]
  },
  {
   "cell_type": "code",
   "execution_count": 52,
   "id": "ae7a5a9e-535c-4675-ac99-b81b34f90fdf",
   "metadata": {},
   "outputs": [],
   "source": [
    "ID_DATASET = 658\n",
    "\n",
    "url_datasets_rows = f'https://{URL_BASE}/v1/datasets/{ID_DATASET}/rows'"
   ]
  },
  {
   "cell_type": "code",
   "execution_count": 53,
   "id": "010e4658-8dfd-411c-b6be-382a9de4c7ea",
   "metadata": {},
   "outputs": [],
   "source": [
    "params_datasets_rows = params.copy()\n",
    "params_datasets_rows['$orderby'] = 'global_id'\n",
    "params_datasets_rows['$top'] = 1000"
   ]
  },
  {
   "cell_type": "code",
   "execution_count": 54,
   "id": "1a0e89ae-5dd7-4784-bb7a-30d3a0919027",
   "metadata": {},
   "outputs": [],
   "source": [
    "response = requests.get(url_datasets_rows, params=params_datasets_rows)"
   ]
  },
  {
   "cell_type": "markdown",
   "id": "ce8bef97",
   "metadata": {},
   "source": [
    "Обработка выгруженного диапазона в data_tickets"
   ]
  },
  {
   "cell_type": "code",
   "execution_count": 55,
   "id": "aebf8a81",
   "metadata": {},
   "outputs": [],
   "source": [
    "data_tickets = []"
   ]
  },
  {
   "cell_type": "code",
   "execution_count": 56,
   "id": "3d7c8746",
   "metadata": {},
   "outputs": [],
   "source": [
    "for elem in response.json():\n",
    "    cell = elem.get('Cells')\n",
    "    data_tickets.append({\n",
    "        'global_id': elem.get('global_id'),\n",
    "        'id_cell' : cell.get('ID'),\n",
    "        'name_of_tariff': cell.get('NameOfTariff'),\n",
    "        'type_of_transport': cell.get('TypeOfTransport'),\n",
    "        'ticket_cost': cell.get('TicketCost'),\n",
    "        'ticket_validity': cell.get('TicketValidity'),\n",
    "    })"
   ]
  },
  {
   "cell_type": "code",
   "execution_count": 60,
   "id": "48c18cc6-4d30-465e-97d5-b2ce01dc190f",
   "metadata": {},
   "outputs": [],
   "source": [
    "df_tickets = pd.DataFrame(data_tickets)"
   ]
  },
  {
   "cell_type": "code",
   "execution_count": 64,
   "id": "d7d472b0",
   "metadata": {},
   "outputs": [],
   "source": [
    "df_columns = [\n",
    "    \"global_id\", \"id строки\", 'Наименование тарифа', 'Типа транспорта','Стоимость билетов', 'Начало активации'\n",
    "]\n",
    "\n",
    "df_tickets.columns = df_columns"
   ]
  },
  {
   "cell_type": "code",
   "execution_count": 66,
   "id": "928cce6c-411e-44c5-b797-aceb3693a2e7",
   "metadata": {},
   "outputs": [
    {
     "data": {
      "text/html": [
       "<div>\n",
       "<style scoped>\n",
       "    .dataframe tbody tr th:only-of-type {\n",
       "        vertical-align: middle;\n",
       "    }\n",
       "\n",
       "    .dataframe tbody tr th {\n",
       "        vertical-align: top;\n",
       "    }\n",
       "\n",
       "    .dataframe thead th {\n",
       "        text-align: right;\n",
       "    }\n",
       "</style>\n",
       "<table border=\"1\" class=\"dataframe\">\n",
       "  <thead>\n",
       "    <tr style=\"text-align: right;\">\n",
       "      <th></th>\n",
       "      <th>global_id</th>\n",
       "      <th>id строки</th>\n",
       "      <th>Наименование тарифа</th>\n",
       "      <th>Типа транспорта</th>\n",
       "      <th>Стоимость билетов</th>\n",
       "      <th>Начало активации</th>\n",
       "    </tr>\n",
       "  </thead>\n",
       "  <tbody>\n",
       "    <tr>\n",
       "      <th>20</th>\n",
       "      <td>1029846586</td>\n",
       "      <td>8100</td>\n",
       "      <td>«Единый» на 365 дней</td>\n",
       "      <td>Метрополитен, монорельс, МЦК, автобус, трамвай...</td>\n",
       "      <td>25700</td>\n",
       "      <td>365 дней с момент первого прохода, но не более...</td>\n",
       "    </tr>\n",
       "    <tr>\n",
       "      <th>5</th>\n",
       "      <td>19368725</td>\n",
       "      <td>1300</td>\n",
       "      <td>«Единый» на 365 дней</td>\n",
       "      <td>Метрополитен, монорельс, МЦК, автобус, трамвай...</td>\n",
       "      <td>20500</td>\n",
       "      <td>365 дней с момент первого прохода, но не более...</td>\n",
       "    </tr>\n",
       "    <tr>\n",
       "      <th>26</th>\n",
       "      <td>2388962130</td>\n",
       "      <td>9100</td>\n",
       "      <td>«ТАТ» на 365 дней</td>\n",
       "      <td>Автобус, электробус, трамвай</td>\n",
       "      <td>14750</td>\n",
       "      <td>365 дней с момент первого прохода, но не более...</td>\n",
       "    </tr>\n",
       "    <tr>\n",
       "      <th>19</th>\n",
       "      <td>1029846584</td>\n",
       "      <td>8000</td>\n",
       "      <td>«Единый» на 90 дней</td>\n",
       "      <td>Метрополитен, монорельс, МЦК, автобус, трамвай...</td>\n",
       "      <td>8850</td>\n",
       "      <td>90 дней с момент первого прохода, но не более ...</td>\n",
       "    </tr>\n",
       "    <tr>\n",
       "      <th>4</th>\n",
       "      <td>19368723</td>\n",
       "      <td>1200</td>\n",
       "      <td>«Единый» на 90 дней</td>\n",
       "      <td>Метрополитен, монорельс, МЦК, автобус, трамвай...</td>\n",
       "      <td>6950</td>\n",
       "      <td>90 дней с момент первого прохода, но не более ...</td>\n",
       "    </tr>\n",
       "    <tr>\n",
       "      <th>25</th>\n",
       "      <td>2388962108</td>\n",
       "      <td>9000</td>\n",
       "      <td>«ТАТ» на 90 дней</td>\n",
       "      <td>Автобус, электробус, трамвай</td>\n",
       "      <td>4800</td>\n",
       "      <td>90 дней с момент первого прохода, но не более ...</td>\n",
       "    </tr>\n",
       "    <tr>\n",
       "      <th>33</th>\n",
       "      <td>2608943181</td>\n",
       "      <td>9504</td>\n",
       "      <td>Единый льготный проездной билет для обучающихс...</td>\n",
       "      <td>Метрополитен, монорельс, МЦК, автобус, трамвай...</td>\n",
       "      <td>3610</td>\n",
       "      <td>90 дней с момент первого прохода, но не более ...</td>\n",
       "    </tr>\n",
       "    <tr>\n",
       "      <th>18</th>\n",
       "      <td>1029846583</td>\n",
       "      <td>7800</td>\n",
       "      <td>«Единый» на 30 дней</td>\n",
       "      <td>Метрополитен, монорельс, МЦК, автобус, трамвай...</td>\n",
       "      <td>3450</td>\n",
       "      <td>30 дней с момент первого прохода, но не более ...</td>\n",
       "    </tr>\n",
       "    <tr>\n",
       "      <th>1</th>\n",
       "      <td>19368716</td>\n",
       "      <td>700</td>\n",
       "      <td>«Единый» не более 60 поездок</td>\n",
       "      <td>Метрополитен, монорельс, МЦК, автобус, трамвай...</td>\n",
       "      <td>3420</td>\n",
       "      <td>45 дней, включая день продажи</td>\n",
       "    </tr>\n",
       "    <tr>\n",
       "      <th>3</th>\n",
       "      <td>19368722</td>\n",
       "      <td>1100</td>\n",
       "      <td>«Единый» на 30 дней</td>\n",
       "      <td>Метрополитен, монорельс, МЦК, автобус, трамвай...</td>\n",
       "      <td>2870</td>\n",
       "      <td>30 дней с момент первого прохода, но не более ...</td>\n",
       "    </tr>\n",
       "  </tbody>\n",
       "</table>\n",
       "</div>"
      ],
      "text/plain": [
       "     global_id  id строки                                Наименование тарифа  \\\n",
       "20  1029846586       8100                               «Единый» на 365 дней   \n",
       "5     19368725       1300                               «Единый» на 365 дней   \n",
       "26  2388962130       9100                                  «ТАТ» на 365 дней   \n",
       "19  1029846584       8000                                «Единый» на 90 дней   \n",
       "4     19368723       1200                                «Единый» на 90 дней   \n",
       "25  2388962108       9000                                   «ТАТ» на 90 дней   \n",
       "33  2608943181       9504  Единый льготный проездной билет для обучающихс...   \n",
       "18  1029846583       7800                                «Единый» на 30 дней   \n",
       "1     19368716        700                       «Единый» не более 60 поездок   \n",
       "3     19368722       1100                                «Единый» на 30 дней   \n",
       "\n",
       "                                      Типа транспорта  Стоимость билетов  \\\n",
       "20  Метрополитен, монорельс, МЦК, автобус, трамвай...              25700   \n",
       "5   Метрополитен, монорельс, МЦК, автобус, трамвай...              20500   \n",
       "26                       Автобус, электробус, трамвай              14750   \n",
       "19  Метрополитен, монорельс, МЦК, автобус, трамвай...               8850   \n",
       "4   Метрополитен, монорельс, МЦК, автобус, трамвай...               6950   \n",
       "25                       Автобус, электробус, трамвай               4800   \n",
       "33  Метрополитен, монорельс, МЦК, автобус, трамвай...               3610   \n",
       "18  Метрополитен, монорельс, МЦК, автобус, трамвай...               3450   \n",
       "1   Метрополитен, монорельс, МЦК, автобус, трамвай...               3420   \n",
       "3   Метрополитен, монорельс, МЦК, автобус, трамвай...               2870   \n",
       "\n",
       "                                     Начало активации  \n",
       "20  365 дней с момент первого прохода, но не более...  \n",
       "5   365 дней с момент первого прохода, но не более...  \n",
       "26  365 дней с момент первого прохода, но не более...  \n",
       "19  90 дней с момент первого прохода, но не более ...  \n",
       "4   90 дней с момент первого прохода, но не более ...  \n",
       "25  90 дней с момент первого прохода, но не более ...  \n",
       "33  90 дней с момент первого прохода, но не более ...  \n",
       "18  30 дней с момент первого прохода, но не более ...  \n",
       "1                       45 дней, включая день продажи  \n",
       "3   30 дней с момент первого прохода, но не более ...  "
      ]
     },
     "execution_count": 66,
     "metadata": {},
     "output_type": "execute_result"
    }
   ],
   "source": [
    "df_tickets.sort_values(by='Стоимость билетов', ascending=False)[:10]"
   ]
  },
  {
   "cell_type": "code",
   "execution_count": null,
   "id": "e1ff5ed2-4892-4b60-abea-ddf104138f9e",
   "metadata": {},
   "outputs": [],
   "source": []
  }
 ],
 "metadata": {
  "kernelspec": {
   "display_name": "venv",
   "language": "python",
   "name": "python3"
  },
  "language_info": {
   "codemirror_mode": {
    "name": "ipython",
    "version": 3
   },
   "file_extension": ".py",
   "mimetype": "text/x-python",
   "name": "python",
   "nbconvert_exporter": "python",
   "pygments_lexer": "ipython3",
   "version": "3.10.12"
  }
 },
 "nbformat": 4,
 "nbformat_minor": 5
}
