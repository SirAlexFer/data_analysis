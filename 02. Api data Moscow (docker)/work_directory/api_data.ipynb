{
 "cells": [
  {
   "cell_type": "code",
   "execution_count": 90,
   "id": "45c2f87a-35aa-4a5e-b426-61e34368aefb",
   "metadata": {},
   "outputs": [
    {
     "data": {
      "text/plain": [
       "True"
      ]
     },
     "execution_count": 90,
     "metadata": {},
     "output_type": "execute_result"
    }
   ],
   "source": [
    "from dotenv import load_dotenv\n",
    "import os\n",
    "\n",
    "import pandas as pd\n",
    "import requests\n",
    "\n",
    "\n",
    "load_dotenv()"
   ]
  },
  {
   "cell_type": "markdown",
   "id": "5e21a8f9-476c-4298-91ec-30ca7f067d66",
   "metadata": {},
   "source": [
    "# Константы"
   ]
  },
  {
   "cell_type": "code",
   "execution_count": 91,
   "id": "dc54adb2-7a98-46a2-80f0-6aaf0307e3d7",
   "metadata": {},
   "outputs": [],
   "source": [
    "TOKEN_MOSCOW = os.getenv('TOKEN_MOSCOW')"
   ]
  },
  {
   "cell_type": "code",
   "execution_count": 92,
   "id": "6ba3a262-79e3-47e0-b30d-52376c11b5dd",
   "metadata": {},
   "outputs": [
    {
     "data": {
      "text/plain": [
       "'a0519a88-f07b-44f2-a93f-663be76653e0'"
      ]
     },
     "execution_count": 92,
     "metadata": {},
     "output_type": "execute_result"
    }
   ],
   "source": [
    "TOKEN_MOSCOW"
   ]
  },
  {
   "cell_type": "code",
   "execution_count": 93,
   "id": "387c2bb8-70c4-4412-be2d-cb78c92bdfd4",
   "metadata": {},
   "outputs": [],
   "source": [
    "URL_BASE = 'apidata.mos.ru'"
   ]
  },
  {
   "cell_type": "code",
   "execution_count": 94,
   "id": "62bc357e-329f-497d-b64f-1d52a5e6ff6e",
   "metadata": {},
   "outputs": [],
   "source": [
    "params = {\n",
    "    'api_key': TOKEN_MOSCOW\n",
    "}"
   ]
  },
  {
   "cell_type": "markdown",
   "id": "9a24e22b-297a-4a9d-8615-d4c96621f574",
   "metadata": {},
   "source": [
    "## Получить текущую версию API"
   ]
  },
  {
   "cell_type": "code",
   "execution_count": 95,
   "id": "f2a64deb-e88d-409f-b4fd-91865b466385",
   "metadata": {},
   "outputs": [],
   "source": [
    "url_version = f'https://{URL_BASE}/version'"
   ]
  },
  {
   "cell_type": "code",
   "execution_count": 96,
   "id": "1c2860fb-8f92-4229-a72c-4ed140967c6d",
   "metadata": {},
   "outputs": [],
   "source": [
    "response = requests.get(url, params=params)"
   ]
  },
  {
   "cell_type": "code",
   "execution_count": 97,
   "id": "399bb6e2-14e3-4125-ba26-1c8d8b29abcb",
   "metadata": {},
   "outputs": [
    {
     "name": "stdout",
     "output_type": "stream",
     "text": [
      "Версия API:  1\n"
     ]
    }
   ],
   "source": [
    "print('Версия API: ', response.json().get('Version'))"
   ]
  },
  {
   "cell_type": "markdown",
   "id": "32ed7cda-98a0-416f-b476-3eb8e4c0035e",
   "metadata": {},
   "source": [
    "## Получить список наборов данных"
   ]
  },
  {
   "cell_type": "code",
   "execution_count": 98,
   "id": "ae54ada0-4458-48c1-8f3a-fde5cb79b120",
   "metadata": {},
   "outputs": [],
   "source": [
    "url_datasets = f'https://{URL_BASE}/v1/datasets'"
   ]
  },
  {
   "cell_type": "code",
   "execution_count": 99,
   "id": "64d2c62c-826b-47ca-a443-e631fd9bf174",
   "metadata": {},
   "outputs": [],
   "source": [
    "params_datasets = params.copy()\n",
    "params_datasets['$inlinecount'] = 'allpages'\n",
    "params_datasets['$top'] = 20\n"
   ]
  },
  {
   "cell_type": "code",
   "execution_count": 100,
   "id": "996de805-8a97-4465-8ecd-dab54847647d",
   "metadata": {},
   "outputs": [],
   "source": [
    "response = requests.get(url_datasets, params=params_datasets)"
   ]
  },
  {
   "cell_type": "code",
   "execution_count": 101,
   "id": "4a07013c-383c-4866-bec5-9afe0b37010f",
   "metadata": {},
   "outputs": [],
   "source": [
    "df_datasets = pd.DataFrame(response.json().get('Items'))"
   ]
  },
  {
   "cell_type": "code",
   "execution_count": 106,
   "id": "da1f4b44-caa5-43b4-ba4c-f16e1864cee8",
   "metadata": {},
   "outputs": [
    {
     "data": {
      "text/html": [
       "<div>\n",
       "<style scoped>\n",
       "    .dataframe tbody tr th:only-of-type {\n",
       "        vertical-align: middle;\n",
       "    }\n",
       "\n",
       "    .dataframe tbody tr th {\n",
       "        vertical-align: top;\n",
       "    }\n",
       "\n",
       "    .dataframe thead th {\n",
       "        text-align: right;\n",
       "    }\n",
       "</style>\n",
       "<table border=\"1\" class=\"dataframe\">\n",
       "  <thead>\n",
       "    <tr style=\"text-align: right;\">\n",
       "      <th></th>\n",
       "      <th>CategoryId</th>\n",
       "      <th>PublishDate</th>\n",
       "      <th>Keywords</th>\n",
       "      <th>IdentificationNumber</th>\n",
       "      <th>ContainsGeodata</th>\n",
       "      <th>IsSeasonal</th>\n",
       "      <th>IsNew</th>\n",
       "      <th>VersionNumber</th>\n",
       "      <th>Caption</th>\n",
       "      <th>ContainsAccEnvData</th>\n",
       "      <th>IsForeign</th>\n",
       "      <th>IsArchive</th>\n",
       "      <th>SefUrl</th>\n",
       "      <th>Id</th>\n",
       "      <th>ReleaseNumber</th>\n",
       "      <th>DepartmentId</th>\n",
       "      <th>Season</th>\n",
       "      <th>FullDescription</th>\n",
       "      <th>LastUpdateDate</th>\n",
       "    </tr>\n",
       "  </thead>\n",
       "  <tbody>\n",
       "    <tr>\n",
       "      <th>15</th>\n",
       "      <td>104</td>\n",
       "      <td>2013-10-07</td>\n",
       "      <td>бесплатное детское питание, грудничок, детский...</td>\n",
       "      <td>7707089084-Dairyspecialties</td>\n",
       "      <td>True</td>\n",
       "      <td>False</td>\n",
       "      <td>False</td>\n",
       "      <td>2</td>\n",
       "      <td>Молочные кухни</td>\n",
       "      <td>True</td>\n",
       "      <td>False</td>\n",
       "      <td>False</td>\n",
       "      <td>None</td>\n",
       "      <td>512</td>\n",
       "      <td>389</td>\n",
       "      <td>1002</td>\n",
       "      <td>0</td>\n",
       "      <td>&lt;p style=\"margin-left:0cm; margin-right:0cm; t...</td>\n",
       "      <td>2025-01-03</td>\n",
       "    </tr>\n",
       "    <tr>\n",
       "      <th>16</th>\n",
       "      <td>104</td>\n",
       "      <td>2013-10-07</td>\n",
       "      <td>акушеры, беременность, здоровье, здравоохранен...</td>\n",
       "      <td>7707089084-MaternityHomes</td>\n",
       "      <td>True</td>\n",
       "      <td>False</td>\n",
       "      <td>False</td>\n",
       "      <td>2</td>\n",
       "      <td>Родильные дома</td>\n",
       "      <td>True</td>\n",
       "      <td>False</td>\n",
       "      <td>False</td>\n",
       "      <td>None</td>\n",
       "      <td>514</td>\n",
       "      <td>361</td>\n",
       "      <td>1002</td>\n",
       "      <td>0</td>\n",
       "      <td>&lt;p style=\"margin-left:0cm; margin-right:0cm; t...</td>\n",
       "      <td>2024-12-27</td>\n",
       "    </tr>\n",
       "    <tr>\n",
       "      <th>17</th>\n",
       "      <td>104</td>\n",
       "      <td>2013-10-07</td>\n",
       "      <td>донор, донорство, здоровье, здравоохранение, к...</td>\n",
       "      <td>7707089084-donation</td>\n",
       "      <td>True</td>\n",
       "      <td>False</td>\n",
       "      <td>False</td>\n",
       "      <td>2</td>\n",
       "      <td>Станции переливания крови</td>\n",
       "      <td>True</td>\n",
       "      <td>False</td>\n",
       "      <td>False</td>\n",
       "      <td>None</td>\n",
       "      <td>515</td>\n",
       "      <td>320</td>\n",
       "      <td>1002</td>\n",
       "      <td>0</td>\n",
       "      <td>&lt;p style=\"margin-left:0cm; margin-right:0cm; t...</td>\n",
       "      <td>2024-12-27</td>\n",
       "    </tr>\n",
       "    <tr>\n",
       "      <th>18</th>\n",
       "      <td>104</td>\n",
       "      <td>2013-10-31</td>\n",
       "      <td>бригада скорой помощи, вызвать врача, вызов ск...</td>\n",
       "      <td>7707089084-medicalemergency</td>\n",
       "      <td>True</td>\n",
       "      <td>False</td>\n",
       "      <td>False</td>\n",
       "      <td>2</td>\n",
       "      <td>Скорая и неотложная медицинская помощь</td>\n",
       "      <td>True</td>\n",
       "      <td>False</td>\n",
       "      <td>False</td>\n",
       "      <td>None</td>\n",
       "      <td>516</td>\n",
       "      <td>169</td>\n",
       "      <td>1002</td>\n",
       "      <td>0</td>\n",
       "      <td>&lt;p style=\"margin-left:0cm; margin-right:0cm; t...</td>\n",
       "      <td>2025-01-03</td>\n",
       "    </tr>\n",
       "    <tr>\n",
       "      <th>19</th>\n",
       "      <td>104</td>\n",
       "      <td>2013-10-07</td>\n",
       "      <td>больница, больница клиническая, больницы взрос...</td>\n",
       "      <td>7707089084-clinics</td>\n",
       "      <td>True</td>\n",
       "      <td>False</td>\n",
       "      <td>False</td>\n",
       "      <td>2</td>\n",
       "      <td>Больницы взрослые</td>\n",
       "      <td>True</td>\n",
       "      <td>False</td>\n",
       "      <td>False</td>\n",
       "      <td>None</td>\n",
       "      <td>517</td>\n",
       "      <td>522</td>\n",
       "      <td>1002</td>\n",
       "      <td>0</td>\n",
       "      <td>&lt;p&gt;&lt;span style=\"font-family:tahoma,geneva,sans...</td>\n",
       "      <td>2024-12-27</td>\n",
       "    </tr>\n",
       "  </tbody>\n",
       "</table>\n",
       "</div>"
      ],
      "text/plain": [
       "    CategoryId PublishDate                                           Keywords  \\\n",
       "15         104  2013-10-07  бесплатное детское питание, грудничок, детский...   \n",
       "16         104  2013-10-07  акушеры, беременность, здоровье, здравоохранен...   \n",
       "17         104  2013-10-07  донор, донорство, здоровье, здравоохранение, к...   \n",
       "18         104  2013-10-31  бригада скорой помощи, вызвать врача, вызов ск...   \n",
       "19         104  2013-10-07  больница, больница клиническая, больницы взрос...   \n",
       "\n",
       "           IdentificationNumber  ContainsGeodata  IsSeasonal  IsNew  \\\n",
       "15  7707089084-Dairyspecialties             True       False  False   \n",
       "16    7707089084-MaternityHomes             True       False  False   \n",
       "17          7707089084-donation             True       False  False   \n",
       "18  7707089084-medicalemergency             True       False  False   \n",
       "19           7707089084-clinics             True       False  False   \n",
       "\n",
       "    VersionNumber                                 Caption  ContainsAccEnvData  \\\n",
       "15              2                          Молочные кухни                True   \n",
       "16              2                          Родильные дома                True   \n",
       "17              2               Станции переливания крови                True   \n",
       "18              2  Скорая и неотложная медицинская помощь                True   \n",
       "19              2                       Больницы взрослые                True   \n",
       "\n",
       "    IsForeign  IsArchive SefUrl   Id  ReleaseNumber  DepartmentId  Season  \\\n",
       "15      False      False   None  512            389          1002       0   \n",
       "16      False      False   None  514            361          1002       0   \n",
       "17      False      False   None  515            320          1002       0   \n",
       "18      False      False   None  516            169          1002       0   \n",
       "19      False      False   None  517            522          1002       0   \n",
       "\n",
       "                                      FullDescription LastUpdateDate  \n",
       "15  <p style=\"margin-left:0cm; margin-right:0cm; t...     2025-01-03  \n",
       "16  <p style=\"margin-left:0cm; margin-right:0cm; t...     2024-12-27  \n",
       "17  <p style=\"margin-left:0cm; margin-right:0cm; t...     2024-12-27  \n",
       "18  <p style=\"margin-left:0cm; margin-right:0cm; t...     2025-01-03  \n",
       "19  <p><span style=\"font-family:tahoma,geneva,sans...     2024-12-27  "
      ]
     },
     "execution_count": 106,
     "metadata": {},
     "output_type": "execute_result"
    }
   ],
   "source": [
    "df_datasets.tail()"
   ]
  },
  {
   "cell_type": "markdown",
   "id": "0a7521aa-5711-48e5-88a2-d4dfbe4b66f4",
   "metadata": {},
   "source": [
    "## Получить содержимое наборов данных"
   ]
  },
  {
   "cell_type": "code",
   "execution_count": 107,
   "id": "ae7a5a9e-535c-4675-ac99-b81b34f90fdf",
   "metadata": {},
   "outputs": [],
   "source": [
    "ID_DATASET = 658\n",
    "\n",
    "url_datasets_rows = f'https://{URL_BASE}/v1/datasets/{ID_DATASET}/rows'"
   ]
  },
  {
   "cell_type": "code",
   "execution_count": 108,
   "id": "010e4658-8dfd-411c-b6be-382a9de4c7ea",
   "metadata": {},
   "outputs": [],
   "source": [
    "params_datasets_rows = params.copy()\n",
    "params_datasets_rows['$orderby'] = 'global_id'\n",
    "params_datasets_rows['$top'] = 20"
   ]
  },
  {
   "cell_type": "code",
   "execution_count": 109,
   "id": "1a0e89ae-5dd7-4784-bb7a-30d3a0919027",
   "metadata": {},
   "outputs": [],
   "source": [
    "response = requests.get(url_datasets_rows, params=params_datasets_rows)"
   ]
  },
  {
   "cell_type": "code",
   "execution_count": 111,
   "id": "48c18cc6-4d30-465e-97d5-b2ce01dc190f",
   "metadata": {},
   "outputs": [
    {
     "data": {
      "text/plain": [
       "{'global_id': 19368709,\n",
       " 'Number': 1,\n",
       " 'Cells': {'ID': 200,\n",
       "  'NameOfTariff': '«Единый» не более 2 поездок',\n",
       "  'TicketZone': [{'is_deleted': 0, 'TicketZone': 'Зона А', 'global_id': 1553},\n",
       "   {'is_deleted': 0, 'TicketZone': 'Зона Б', 'global_id': 1877},\n",
       "   {'is_deleted': 0, 'TicketZone': 'между зонами А и Б', 'global_id': 1878},\n",
       "   {'is_deleted': 0, 'TicketZone': 'МЦК', 'global_id': 1879}],\n",
       "  'global_id': 19368709,\n",
       "  'NumberOfZone': '-',\n",
       "  'TariffDistance': '-',\n",
       "  'TypeOfTransport': 'Метрополитен, монорельс, МЦК, автобус, трамвай, электробус',\n",
       "  'NameOfCarrier': [{'is_deleted': 0,\n",
       "    'NameOfCarrier': 'ГУП «Московский метрополитен»',\n",
       "    'global_id': 993},\n",
       "   {'is_deleted': 0, 'NameOfCarrier': 'ГУП «Мосгортранс»', 'global_id': 994},\n",
       "   {'is_deleted': 0,\n",
       "    'NameOfCarrier': 'перевозчики наземного транспорта, работающие по государственным контрактам',\n",
       "    'global_id': 1664},\n",
       "   {'is_deleted': 0, 'NameOfCarrier': 'ОАО «РЖД»', 'global_id': 1846}],\n",
       "  'TicketCost': 140,\n",
       "  'TicketValidity': '5 дней, включая день продажи'}}"
      ]
     },
     "execution_count": 111,
     "metadata": {},
     "output_type": "execute_result"
    }
   ],
   "source": [
    "response.json()[0]"
   ]
  },
  {
   "cell_type": "code",
   "execution_count": null,
   "id": "928cce6c-411e-44c5-b797-aceb3693a2e7",
   "metadata": {},
   "outputs": [],
   "source": []
  },
  {
   "cell_type": "code",
   "execution_count": null,
   "id": "e1ff5ed2-4892-4b60-abea-ddf104138f9e",
   "metadata": {},
   "outputs": [],
   "source": []
  }
 ],
 "metadata": {
  "kernelspec": {
   "display_name": "Python 3 (ipykernel)",
   "language": "python",
   "name": "python3"
  },
  "language_info": {
   "codemirror_mode": {
    "name": "ipython",
    "version": 3
   },
   "file_extension": ".py",
   "mimetype": "text/x-python",
   "name": "python",
   "nbconvert_exporter": "python",
   "pygments_lexer": "ipython3",
   "version": "3.12.8"
  }
 },
 "nbformat": 4,
 "nbformat_minor": 5
}
