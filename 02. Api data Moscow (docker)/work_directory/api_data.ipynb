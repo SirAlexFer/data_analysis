{
 "cells": [
  {
   "cell_type": "code",
   "execution_count": 1,
   "id": "45c2f87a-35aa-4a5e-b426-61e34368aefb",
   "metadata": {},
   "outputs": [
    {
     "data": {
      "text/plain": [
       "True"
      ]
     },
     "execution_count": 1,
     "metadata": {},
     "output_type": "execute_result"
    }
   ],
   "source": [
    "from dotenv import load_dotenv\n",
    "import os\n",
    "\n",
    "import pandas as pd\n",
    "import requests\n",
    "\n",
    "\n",
    "load_dotenv()"
   ]
  },
  {
   "cell_type": "markdown",
   "id": "5e21a8f9-476c-4298-91ec-30ca7f067d66",
   "metadata": {},
   "source": [
    "# Константы"
   ]
  },
  {
   "cell_type": "code",
   "execution_count": 2,
   "id": "dc54adb2-7a98-46a2-80f0-6aaf0307e3d7",
   "metadata": {},
   "outputs": [],
   "source": [
    "TOKEN_MOSCOW = os.getenv('TOKEN_MOSCOW')"
   ]
  },
  {
   "cell_type": "code",
   "execution_count": 3,
   "id": "387c2bb8-70c4-4412-be2d-cb78c92bdfd4",
   "metadata": {},
   "outputs": [],
   "source": [
    "URL_BASE = 'apidata.mos.ru'"
   ]
  },
  {
   "cell_type": "code",
   "execution_count": 4,
   "id": "62bc357e-329f-497d-b64f-1d52a5e6ff6e",
   "metadata": {},
   "outputs": [],
   "source": [
    "params = {\n",
    "    'api_key': TOKEN_MOSCOW\n",
    "}"
   ]
  },
  {
   "cell_type": "markdown",
   "id": "9a24e22b-297a-4a9d-8615-d4c96621f574",
   "metadata": {},
   "source": [
    "## Получить текущую версию API"
   ]
  },
  {
   "cell_type": "code",
   "execution_count": 5,
   "id": "f2a64deb-e88d-409f-b4fd-91865b466385",
   "metadata": {},
   "outputs": [],
   "source": [
    "url_version = f'https://{URL_BASE}/version'"
   ]
  },
  {
   "cell_type": "code",
   "execution_count": 6,
   "id": "1c2860fb-8f92-4229-a72c-4ed140967c6d",
   "metadata": {},
   "outputs": [],
   "source": [
    "response = requests.get(url_version, params=params)"
   ]
  },
  {
   "cell_type": "code",
   "execution_count": 7,
   "id": "399bb6e2-14e3-4125-ba26-1c8d8b29abcb",
   "metadata": {},
   "outputs": [
    {
     "name": "stdout",
     "output_type": "stream",
     "text": [
      "Версия API:  1\n"
     ]
    }
   ],
   "source": [
    "print('Версия API: ', response.json().get('Version'))"
   ]
  },
  {
   "cell_type": "markdown",
   "id": "32ed7cda-98a0-416f-b476-3eb8e4c0035e",
   "metadata": {},
   "source": [
    "## Получить список наборов данных"
   ]
  },
  {
   "cell_type": "code",
   "execution_count": 8,
   "id": "ae54ada0-4458-48c1-8f3a-fde5cb79b120",
   "metadata": {},
   "outputs": [],
   "source": [
    "url_datasets = f'https://{URL_BASE}/v1/datasets'"
   ]
  },
  {
   "cell_type": "code",
   "execution_count": 9,
   "id": "64d2c62c-826b-47ca-a443-e631fd9bf174",
   "metadata": {},
   "outputs": [],
   "source": [
    "params_datasets = params.copy()\n",
    "params_datasets['$inlinecount'] = 'allpages'\n",
    "params_datasets['$top'] = 20\n"
   ]
  },
  {
   "cell_type": "code",
   "execution_count": 10,
   "id": "996de805-8a97-4465-8ecd-dab54847647d",
   "metadata": {},
   "outputs": [],
   "source": [
    "response = requests.get(url_datasets, params=params_datasets)"
   ]
  },
  {
   "cell_type": "code",
   "execution_count": 11,
   "id": "4a07013c-383c-4866-bec5-9afe0b37010f",
   "metadata": {},
   "outputs": [],
   "source": [
    "df_datasets = pd.DataFrame(response.json().get('Items'))"
   ]
  },
  {
   "cell_type": "code",
   "execution_count": 12,
   "id": "da1f4b44-caa5-43b4-ba4c-f16e1864cee8",
   "metadata": {},
   "outputs": [
    {
     "data": {
      "text/html": [
       "<div>\n",
       "<style scoped>\n",
       "    .dataframe tbody tr th:only-of-type {\n",
       "        vertical-align: middle;\n",
       "    }\n",
       "\n",
       "    .dataframe tbody tr th {\n",
       "        vertical-align: top;\n",
       "    }\n",
       "\n",
       "    .dataframe thead th {\n",
       "        text-align: right;\n",
       "    }\n",
       "</style>\n",
       "<table border=\"1\" class=\"dataframe\">\n",
       "  <thead>\n",
       "    <tr style=\"text-align: right;\">\n",
       "      <th></th>\n",
       "      <th>CategoryId</th>\n",
       "      <th>PublishDate</th>\n",
       "      <th>Keywords</th>\n",
       "      <th>IdentificationNumber</th>\n",
       "      <th>ContainsGeodata</th>\n",
       "      <th>IsSeasonal</th>\n",
       "      <th>IsNew</th>\n",
       "      <th>VersionNumber</th>\n",
       "      <th>Caption</th>\n",
       "      <th>ContainsAccEnvData</th>\n",
       "      <th>IsForeign</th>\n",
       "      <th>IsArchive</th>\n",
       "      <th>SefUrl</th>\n",
       "      <th>Id</th>\n",
       "      <th>ReleaseNumber</th>\n",
       "      <th>DepartmentId</th>\n",
       "      <th>Season</th>\n",
       "      <th>FullDescription</th>\n",
       "      <th>LastUpdateDate</th>\n",
       "    </tr>\n",
       "  </thead>\n",
       "  <tbody>\n",
       "    <tr>\n",
       "      <th>15</th>\n",
       "      <td>104</td>\n",
       "      <td>2013-10-07</td>\n",
       "      <td>бесплатное детское питание, грудничок, детский...</td>\n",
       "      <td>7707089084-Dairyspecialties</td>\n",
       "      <td>True</td>\n",
       "      <td>False</td>\n",
       "      <td>False</td>\n",
       "      <td>2</td>\n",
       "      <td>Молочные кухни</td>\n",
       "      <td>True</td>\n",
       "      <td>False</td>\n",
       "      <td>False</td>\n",
       "      <td>None</td>\n",
       "      <td>512</td>\n",
       "      <td>390</td>\n",
       "      <td>1002</td>\n",
       "      <td>0</td>\n",
       "      <td>&lt;p style=\"margin-left:0cm; margin-right:0cm; t...</td>\n",
       "      <td>2025-01-06</td>\n",
       "    </tr>\n",
       "    <tr>\n",
       "      <th>16</th>\n",
       "      <td>104</td>\n",
       "      <td>2013-10-07</td>\n",
       "      <td>акушеры, беременность, здоровье, здравоохранен...</td>\n",
       "      <td>7707089084-MaternityHomes</td>\n",
       "      <td>True</td>\n",
       "      <td>False</td>\n",
       "      <td>False</td>\n",
       "      <td>2</td>\n",
       "      <td>Родильные дома</td>\n",
       "      <td>True</td>\n",
       "      <td>False</td>\n",
       "      <td>False</td>\n",
       "      <td>None</td>\n",
       "      <td>514</td>\n",
       "      <td>361</td>\n",
       "      <td>1002</td>\n",
       "      <td>0</td>\n",
       "      <td>&lt;p style=\"margin-left:0cm; margin-right:0cm; t...</td>\n",
       "      <td>2024-12-27</td>\n",
       "    </tr>\n",
       "    <tr>\n",
       "      <th>17</th>\n",
       "      <td>104</td>\n",
       "      <td>2013-10-07</td>\n",
       "      <td>донор, донорство, здоровье, здравоохранение, к...</td>\n",
       "      <td>7707089084-donation</td>\n",
       "      <td>True</td>\n",
       "      <td>False</td>\n",
       "      <td>False</td>\n",
       "      <td>2</td>\n",
       "      <td>Станции переливания крови</td>\n",
       "      <td>True</td>\n",
       "      <td>False</td>\n",
       "      <td>False</td>\n",
       "      <td>None</td>\n",
       "      <td>515</td>\n",
       "      <td>320</td>\n",
       "      <td>1002</td>\n",
       "      <td>0</td>\n",
       "      <td>&lt;p style=\"margin-left:0cm; margin-right:0cm; t...</td>\n",
       "      <td>2024-12-27</td>\n",
       "    </tr>\n",
       "    <tr>\n",
       "      <th>18</th>\n",
       "      <td>104</td>\n",
       "      <td>2013-10-31</td>\n",
       "      <td>бригада скорой помощи, вызвать врача, вызов ск...</td>\n",
       "      <td>7707089084-medicalemergency</td>\n",
       "      <td>True</td>\n",
       "      <td>False</td>\n",
       "      <td>False</td>\n",
       "      <td>2</td>\n",
       "      <td>Скорая и неотложная медицинская помощь</td>\n",
       "      <td>True</td>\n",
       "      <td>False</td>\n",
       "      <td>False</td>\n",
       "      <td>None</td>\n",
       "      <td>516</td>\n",
       "      <td>169</td>\n",
       "      <td>1002</td>\n",
       "      <td>0</td>\n",
       "      <td>&lt;p style=\"margin-left:0cm; margin-right:0cm; t...</td>\n",
       "      <td>2025-01-03</td>\n",
       "    </tr>\n",
       "    <tr>\n",
       "      <th>19</th>\n",
       "      <td>104</td>\n",
       "      <td>2013-10-07</td>\n",
       "      <td>больница, больница клиническая, больницы взрос...</td>\n",
       "      <td>7707089084-clinics</td>\n",
       "      <td>True</td>\n",
       "      <td>False</td>\n",
       "      <td>False</td>\n",
       "      <td>2</td>\n",
       "      <td>Больницы взрослые</td>\n",
       "      <td>True</td>\n",
       "      <td>False</td>\n",
       "      <td>False</td>\n",
       "      <td>None</td>\n",
       "      <td>517</td>\n",
       "      <td>522</td>\n",
       "      <td>1002</td>\n",
       "      <td>0</td>\n",
       "      <td>&lt;p&gt;&lt;span style=\"font-family:tahoma,geneva,sans...</td>\n",
       "      <td>2024-12-27</td>\n",
       "    </tr>\n",
       "  </tbody>\n",
       "</table>\n",
       "</div>"
      ],
      "text/plain": [
       "    CategoryId PublishDate                                           Keywords  \\\n",
       "15         104  2013-10-07  бесплатное детское питание, грудничок, детский...   \n",
       "16         104  2013-10-07  акушеры, беременность, здоровье, здравоохранен...   \n",
       "17         104  2013-10-07  донор, донорство, здоровье, здравоохранение, к...   \n",
       "18         104  2013-10-31  бригада скорой помощи, вызвать врача, вызов ск...   \n",
       "19         104  2013-10-07  больница, больница клиническая, больницы взрос...   \n",
       "\n",
       "           IdentificationNumber  ContainsGeodata  IsSeasonal  IsNew  \\\n",
       "15  7707089084-Dairyspecialties             True       False  False   \n",
       "16    7707089084-MaternityHomes             True       False  False   \n",
       "17          7707089084-donation             True       False  False   \n",
       "18  7707089084-medicalemergency             True       False  False   \n",
       "19           7707089084-clinics             True       False  False   \n",
       "\n",
       "    VersionNumber                                 Caption  ContainsAccEnvData  \\\n",
       "15              2                          Молочные кухни                True   \n",
       "16              2                          Родильные дома                True   \n",
       "17              2               Станции переливания крови                True   \n",
       "18              2  Скорая и неотложная медицинская помощь                True   \n",
       "19              2                       Больницы взрослые                True   \n",
       "\n",
       "    IsForeign  IsArchive SefUrl   Id  ReleaseNumber  DepartmentId  Season  \\\n",
       "15      False      False   None  512            390          1002       0   \n",
       "16      False      False   None  514            361          1002       0   \n",
       "17      False      False   None  515            320          1002       0   \n",
       "18      False      False   None  516            169          1002       0   \n",
       "19      False      False   None  517            522          1002       0   \n",
       "\n",
       "                                      FullDescription LastUpdateDate  \n",
       "15  <p style=\"margin-left:0cm; margin-right:0cm; t...     2025-01-06  \n",
       "16  <p style=\"margin-left:0cm; margin-right:0cm; t...     2024-12-27  \n",
       "17  <p style=\"margin-left:0cm; margin-right:0cm; t...     2024-12-27  \n",
       "18  <p style=\"margin-left:0cm; margin-right:0cm; t...     2025-01-03  \n",
       "19  <p><span style=\"font-family:tahoma,geneva,sans...     2024-12-27  "
      ]
     },
     "execution_count": 12,
     "metadata": {},
     "output_type": "execute_result"
    }
   ],
   "source": [
    "df_datasets.tail()"
   ]
  },
  {
   "cell_type": "markdown",
   "id": "0a7521aa-5711-48e5-88a2-d4dfbe4b66f4",
   "metadata": {},
   "source": [
    "## Получить содержимое наборов данных"
   ]
  },
  {
   "cell_type": "code",
   "execution_count": 13,
   "id": "ae7a5a9e-535c-4675-ac99-b81b34f90fdf",
   "metadata": {},
   "outputs": [],
   "source": [
    "ID_DATASET = 658\n",
    "\n",
    "url_datasets_rows = f'https://{URL_BASE}/v1/datasets/{ID_DATASET}/rows'"
   ]
  },
  {
   "cell_type": "code",
   "execution_count": 14,
   "id": "010e4658-8dfd-411c-b6be-382a9de4c7ea",
   "metadata": {},
   "outputs": [],
   "source": [
    "params_datasets_rows = params.copy()\n",
    "params_datasets_rows['$orderby'] = 'global_id'\n",
    "params_datasets_rows['$top'] = 1000"
   ]
  },
  {
   "cell_type": "code",
   "execution_count": 15,
   "id": "1a0e89ae-5dd7-4784-bb7a-30d3a0919027",
   "metadata": {},
   "outputs": [],
   "source": [
    "response = requests.get(url_datasets_rows, params=params_datasets_rows)"
   ]
  },
  {
   "cell_type": "markdown",
   "id": "ce8bef97",
   "metadata": {},
   "source": [
    "Обработка выгруженного диапазона в data_tickets"
   ]
  },
  {
   "cell_type": "markdown",
   "id": "5bde5ec2-554a-4c49-9f0e-6ac63ae55fe1",
   "metadata": {},
   "source": [
    "Выбор нужного содержимого"
   ]
  },
  {
   "cell_type": "code",
   "execution_count": 23,
   "id": "e34de1a6-80ca-464d-9e65-845004baf91c",
   "metadata": {},
   "outputs": [
    {
     "data": {
      "text/plain": [
       "{'ID': 200,\n",
       " 'NameOfTariff': '«Единый» не более 2 поездок',\n",
       " 'TicketZone': [{'is_deleted': 0, 'TicketZone': 'Зона А', 'global_id': 1553},\n",
       "  {'is_deleted': 0, 'TicketZone': 'Зона Б', 'global_id': 1877},\n",
       "  {'is_deleted': 0, 'TicketZone': 'между зонами А и Б', 'global_id': 1878},\n",
       "  {'is_deleted': 0, 'TicketZone': 'МЦК', 'global_id': 1879}],\n",
       " 'global_id': 19368709,\n",
       " 'NumberOfZone': '-',\n",
       " 'TariffDistance': '-',\n",
       " 'TypeOfTransport': 'Метрополитен, монорельс, МЦК, автобус, трамвай, электробус',\n",
       " 'NameOfCarrier': [{'is_deleted': 0,\n",
       "   'NameOfCarrier': 'ГУП «Московский метрополитен»',\n",
       "   'global_id': 993},\n",
       "  {'is_deleted': 0, 'NameOfCarrier': 'ГУП «Мосгортранс»', 'global_id': 994},\n",
       "  {'is_deleted': 0,\n",
       "   'NameOfCarrier': 'перевозчики наземного транспорта, работающие по государственным контрактам',\n",
       "   'global_id': 1664},\n",
       "  {'is_deleted': 0, 'NameOfCarrier': 'ОАО «РЖД»', 'global_id': 1846}],\n",
       " 'TicketCost': 140,\n",
       " 'TicketValidity': '5 дней, включая день продажи'}"
      ]
     },
     "execution_count": 23,
     "metadata": {},
     "output_type": "execute_result"
    }
   ],
   "source": [
    "response.json()[0].get('Cells')"
   ]
  },
  {
   "cell_type": "markdown",
   "id": "9309d838-a221-443e-869d-95c9a08495d2",
   "metadata": {},
   "source": [
    "Мы видим что имеется несколько ticket zone и перевозчиков"
   ]
  },
  {
   "cell_type": "code",
   "execution_count": 27,
   "id": "0f6b1594-f959-4161-b707-0ed39e751b3c",
   "metadata": {},
   "outputs": [],
   "source": [
    "max_tickets = 0\n",
    "max_carrier = 0\n",
    "\n",
    "for elem in response.json():\n",
    "    cell = elem.get('Cells')\n",
    "    count_tickets = len(cell.get('TicketZone'))\n",
    "    count_carrier = len(cell.get('NameOfCarrier'))\n",
    "    max_tickets = max(count_tickets, max_tickets)\n",
    "    max_carrier = max(count_carrier, max_carrier)"
   ]
  },
  {
   "cell_type": "code",
   "execution_count": 29,
   "id": "22d2aa33-4cf4-44c6-90d3-5a81b642dd0d",
   "metadata": {},
   "outputs": [
    {
     "data": {
      "text/plain": [
       "(5, 6)"
      ]
     },
     "execution_count": 29,
     "metadata": {},
     "output_type": "execute_result"
    }
   ],
   "source": [
    "max_tickets, max_carrier"
   ]
  },
  {
   "cell_type": "markdown",
   "id": "66ad6d6c-19da-4bf3-8cfb-2ecd3324c74f",
   "metadata": {},
   "source": [
    "Итого необходимо будет создат 5 столбцов с зонами для билетов и 6 перевозчиков"
   ]
  },
  {
   "cell_type": "code",
   "execution_count": 45,
   "id": "aebf8a81",
   "metadata": {},
   "outputs": [],
   "source": [
    "data_tickets = []"
   ]
  },
  {
   "cell_type": "code",
   "execution_count": 46,
   "id": "3d7c8746",
   "metadata": {},
   "outputs": [],
   "source": [
    "for elem in response.json():\n",
    "    cell = elem.get('Cells')\n",
    "\n",
    "    ticket_zones = cell.get('TicketZone', [])\n",
    "    name_zones = []\n",
    "    for zone in ticket_zones:\n",
    "        name_zones.append(zone.get('TicketZone'))\n",
    "\n",
    "    carrier_data = cell.get('NameOfCarrier', [])\n",
    "    name_carriers = []\n",
    "    for carrier in carrier_data:\n",
    "        name_carriers.append(carrier.get('NameOfCarrier'))\n",
    "\n",
    "    data_tickets.append({\n",
    "        'global_id': elem.get('global_id'),\n",
    "        'id_cell' : cell.get('ID'),\n",
    "        'name_zones': ', '.join(name_zones),\n",
    "        'name_carriers': ', '.join(name_carriers),\n",
    "        'name_of_tariff': cell.get('NameOfTariff'),\n",
    "        'type_of_transport': cell.get('TypeOfTransport'),\n",
    "        'ticket_cost': cell.get('TicketCost'),\n",
    "        'ticket_validity': cell.get('TicketValidity'),\n",
    "    })"
   ]
  },
  {
   "cell_type": "code",
   "execution_count": 51,
   "id": "fae375b0-02cb-439c-910c-7ec26696716e",
   "metadata": {},
   "outputs": [
    {
     "data": {
      "text/plain": [
       "[{'global_id': 19368709,\n",
       "  'id_cell': 200,\n",
       "  'name_zones': 'Зона А, Зона Б, между зонами А и Б, МЦК',\n",
       "  'name_carriers': 'ГУП «Московский метрополитен», ГУП «Мосгортранс», перевозчики наземного транспорта, работающие по государственным контрактам, ОАО «РЖД»',\n",
       "  'name_of_tariff': '«Единый» не более 2 поездок',\n",
       "  'type_of_transport': 'Метрополитен, монорельс, МЦК, автобус, трамвай, электробус',\n",
       "  'ticket_cost': 140,\n",
       "  'ticket_validity': '5 дней, включая день продажи'},\n",
       " {'global_id': 19368716,\n",
       "  'id_cell': 700,\n",
       "  'name_zones': 'Зона А, Зона Б, между зонами А и Б',\n",
       "  'name_carriers': 'ГУП «Московский метрополитен», ГУП «Мосгортранс», АО «Центральная пригородная пассажирская компания», перевозчики наземного транспорта, работающие по государственным контрактам, АО «Московско-Тверская пригородная пассажирская компания», ОАО «РЖД»',\n",
       "  'name_of_tariff': '«Единый» не более 60 поездок',\n",
       "  'type_of_transport': 'Метрополитен, монорельс, МЦК, автобус, трамвай, электробус, МЦД в зоне Центральная',\n",
       "  'ticket_cost': 3420,\n",
       "  'ticket_validity': '45 дней, включая день продажи'},\n",
       " {'global_id': 19368718,\n",
       "  'id_cell': 800,\n",
       "  'name_zones': 'Зона А, Зона Б (в части ЗелАО), МЦК, МЦД',\n",
       "  'name_carriers': 'ГУП «Московский метрополитен», ГУП «Мосгортранс», АО «Центральная пригородная пассажирская компания», перевозчики наземного транспорта, работающие по государственным контрактам, АО «Московско-Тверская пригородная пассажирская компания», ОАО «РЖД»',\n",
       "  'name_of_tariff': '«Единый» на 1 сутки',\n",
       "  'type_of_transport': 'Метрополитен, монорельс, МЦК, автобус, трамвай, электробус, МЦД в зоне Центральная',\n",
       "  'ticket_cost': 340,\n",
       "  'ticket_validity': '1 сутки с момента первого прохода, начало использования - не позднее 10 суток с момента продажи'}]"
      ]
     },
     "execution_count": 51,
     "metadata": {},
     "output_type": "execute_result"
    }
   ],
   "source": [
    "data_tickets[:3]"
   ]
  },
  {
   "cell_type": "code",
   "execution_count": 48,
   "id": "48c18cc6-4d30-465e-97d5-b2ce01dc190f",
   "metadata": {},
   "outputs": [],
   "source": [
    "df_tickets = pd.DataFrame(data_tickets)"
   ]
  },
  {
   "cell_type": "code",
   "execution_count": 49,
   "id": "d7d472b0",
   "metadata": {},
   "outputs": [],
   "source": [
    "df_columns = [\n",
    "    \"global_id\", \"id строки\", \"Наименование посадочных зон\", \"Наименование перевозчиков\", \n",
    "    'Наименование тарифа', 'Типа транспорта','Стоимость билетов', 'Начало активации'\n",
    "]\n",
    "\n",
    "df_tickets.columns = df_columns"
   ]
  },
  {
   "cell_type": "code",
   "execution_count": 50,
   "id": "928cce6c-411e-44c5-b797-aceb3693a2e7",
   "metadata": {},
   "outputs": [
    {
     "data": {
      "text/html": [
       "<div>\n",
       "<style scoped>\n",
       "    .dataframe tbody tr th:only-of-type {\n",
       "        vertical-align: middle;\n",
       "    }\n",
       "\n",
       "    .dataframe tbody tr th {\n",
       "        vertical-align: top;\n",
       "    }\n",
       "\n",
       "    .dataframe thead th {\n",
       "        text-align: right;\n",
       "    }\n",
       "</style>\n",
       "<table border=\"1\" class=\"dataframe\">\n",
       "  <thead>\n",
       "    <tr style=\"text-align: right;\">\n",
       "      <th></th>\n",
       "      <th>global_id</th>\n",
       "      <th>id строки</th>\n",
       "      <th>Наименование посадочных зон</th>\n",
       "      <th>Наименование перевозчиков</th>\n",
       "      <th>Наименование тарифа</th>\n",
       "      <th>Типа транспорта</th>\n",
       "      <th>Стоимость билетов</th>\n",
       "      <th>Начало активации</th>\n",
       "    </tr>\n",
       "  </thead>\n",
       "  <tbody>\n",
       "    <tr>\n",
       "      <th>20</th>\n",
       "      <td>1029846586</td>\n",
       "      <td>8100</td>\n",
       "      <td>Зона А, Зона Б (в части ЗелАО), МЦК, МЦД</td>\n",
       "      <td>ГУП «Московский метрополитен», ГУП «Мосгортран...</td>\n",
       "      <td>«Единый» на 365 дней</td>\n",
       "      <td>Метрополитен, монорельс, МЦК, автобус, трамвай...</td>\n",
       "      <td>25700</td>\n",
       "      <td>365 дней с момент первого прохода, но не более...</td>\n",
       "    </tr>\n",
       "    <tr>\n",
       "      <th>5</th>\n",
       "      <td>19368725</td>\n",
       "      <td>1300</td>\n",
       "      <td>Зона А, Зона Б (в части ЗелАО), МЦК, МЦД</td>\n",
       "      <td>ГУП «Московский метрополитен», ГУП «Мосгортран...</td>\n",
       "      <td>«Единый» на 365 дней</td>\n",
       "      <td>Метрополитен, монорельс, МЦК, автобус, трамвай...</td>\n",
       "      <td>20500</td>\n",
       "      <td>365 дней с момент первого прохода, но не более...</td>\n",
       "    </tr>\n",
       "    <tr>\n",
       "      <th>26</th>\n",
       "      <td>2388962130</td>\n",
       "      <td>9100</td>\n",
       "      <td>Зона А, Зона Б (в части ЗелАО)</td>\n",
       "      <td>ГУП «Мосгортранс», перевозчики наземного транс...</td>\n",
       "      <td>«ТАТ» на 365 дней</td>\n",
       "      <td>Автобус, электробус, трамвай</td>\n",
       "      <td>14750</td>\n",
       "      <td>365 дней с момент первого прохода, но не более...</td>\n",
       "    </tr>\n",
       "    <tr>\n",
       "      <th>19</th>\n",
       "      <td>1029846584</td>\n",
       "      <td>8000</td>\n",
       "      <td>Зона А, Зона Б (в части ЗелАО), МЦК, МЦД</td>\n",
       "      <td>ГУП «Московский метрополитен», ГУП «Мосгортран...</td>\n",
       "      <td>«Единый» на 90 дней</td>\n",
       "      <td>Метрополитен, монорельс, МЦК, автобус, трамвай...</td>\n",
       "      <td>8850</td>\n",
       "      <td>90 дней с момент первого прохода, но не более ...</td>\n",
       "    </tr>\n",
       "    <tr>\n",
       "      <th>4</th>\n",
       "      <td>19368723</td>\n",
       "      <td>1200</td>\n",
       "      <td>Зона А, Зона Б (в части ЗелАО), МЦК, МЦД</td>\n",
       "      <td>ГУП «Московский метрополитен», ГУП «Мосгортран...</td>\n",
       "      <td>«Единый» на 90 дней</td>\n",
       "      <td>Метрополитен, монорельс, МЦК, автобус, трамвай...</td>\n",
       "      <td>6950</td>\n",
       "      <td>90 дней с момент первого прохода, но не более ...</td>\n",
       "    </tr>\n",
       "    <tr>\n",
       "      <th>25</th>\n",
       "      <td>2388962108</td>\n",
       "      <td>9000</td>\n",
       "      <td>Зона А, Зона Б (в части ЗелАО)</td>\n",
       "      <td>ГУП «Мосгортранс», перевозчики наземного транс...</td>\n",
       "      <td>«ТАТ» на 90 дней</td>\n",
       "      <td>Автобус, электробус, трамвай</td>\n",
       "      <td>4800</td>\n",
       "      <td>90 дней с момент первого прохода, но не более ...</td>\n",
       "    </tr>\n",
       "    <tr>\n",
       "      <th>33</th>\n",
       "      <td>2608943181</td>\n",
       "      <td>9504</td>\n",
       "      <td>МЦК, Зона А, Зона Б (в части ЗелАО), ММЦД</td>\n",
       "      <td>ГУП «Мосгортранс», АО «Центральная пригородная...</td>\n",
       "      <td>Единый льготный проездной билет для обучающихс...</td>\n",
       "      <td>Метрополитен, монорельс, МЦК, автобус, трамвай...</td>\n",
       "      <td>3610</td>\n",
       "      <td>90 дней с момент первого прохода, но не более ...</td>\n",
       "    </tr>\n",
       "    <tr>\n",
       "      <th>18</th>\n",
       "      <td>1029846583</td>\n",
       "      <td>7800</td>\n",
       "      <td>Зона А, Зона Б (в части ЗелАО), МЦК, МЦД</td>\n",
       "      <td>ГУП «Московский метрополитен», ГУП «Мосгортран...</td>\n",
       "      <td>«Единый» на 30 дней</td>\n",
       "      <td>Метрополитен, монорельс, МЦК, автобус, трамвай...</td>\n",
       "      <td>3450</td>\n",
       "      <td>30 дней с момент первого прохода, но не более ...</td>\n",
       "    </tr>\n",
       "    <tr>\n",
       "      <th>1</th>\n",
       "      <td>19368716</td>\n",
       "      <td>700</td>\n",
       "      <td>Зона А, Зона Б, между зонами А и Б</td>\n",
       "      <td>ГУП «Московский метрополитен», ГУП «Мосгортран...</td>\n",
       "      <td>«Единый» не более 60 поездок</td>\n",
       "      <td>Метрополитен, монорельс, МЦК, автобус, трамвай...</td>\n",
       "      <td>3420</td>\n",
       "      <td>45 дней, включая день продажи</td>\n",
       "    </tr>\n",
       "    <tr>\n",
       "      <th>3</th>\n",
       "      <td>19368722</td>\n",
       "      <td>1100</td>\n",
       "      <td>Зона А, Зона Б (в части ЗелАО), МЦК, МЦД</td>\n",
       "      <td>ГУП «Московский метрополитен», ГУП «Мосгортран...</td>\n",
       "      <td>«Единый» на 30 дней</td>\n",
       "      <td>Метрополитен, монорельс, МЦК, автобус, трамвай...</td>\n",
       "      <td>2870</td>\n",
       "      <td>30 дней с момент первого прохода, но не более ...</td>\n",
       "    </tr>\n",
       "  </tbody>\n",
       "</table>\n",
       "</div>"
      ],
      "text/plain": [
       "     global_id  id строки                Наименование посадочных зон  \\\n",
       "20  1029846586       8100   Зона А, Зона Б (в части ЗелАО), МЦК, МЦД   \n",
       "5     19368725       1300   Зона А, Зона Б (в части ЗелАО), МЦК, МЦД   \n",
       "26  2388962130       9100             Зона А, Зона Б (в части ЗелАО)   \n",
       "19  1029846584       8000   Зона А, Зона Б (в части ЗелАО), МЦК, МЦД   \n",
       "4     19368723       1200   Зона А, Зона Б (в части ЗелАО), МЦК, МЦД   \n",
       "25  2388962108       9000             Зона А, Зона Б (в части ЗелАО)   \n",
       "33  2608943181       9504  МЦК, Зона А, Зона Б (в части ЗелАО), ММЦД   \n",
       "18  1029846583       7800   Зона А, Зона Б (в части ЗелАО), МЦК, МЦД   \n",
       "1     19368716        700         Зона А, Зона Б, между зонами А и Б   \n",
       "3     19368722       1100   Зона А, Зона Б (в части ЗелАО), МЦК, МЦД   \n",
       "\n",
       "                            Наименование перевозчиков  \\\n",
       "20  ГУП «Московский метрополитен», ГУП «Мосгортран...   \n",
       "5   ГУП «Московский метрополитен», ГУП «Мосгортран...   \n",
       "26  ГУП «Мосгортранс», перевозчики наземного транс...   \n",
       "19  ГУП «Московский метрополитен», ГУП «Мосгортран...   \n",
       "4   ГУП «Московский метрополитен», ГУП «Мосгортран...   \n",
       "25  ГУП «Мосгортранс», перевозчики наземного транс...   \n",
       "33  ГУП «Мосгортранс», АО «Центральная пригородная...   \n",
       "18  ГУП «Московский метрополитен», ГУП «Мосгортран...   \n",
       "1   ГУП «Московский метрополитен», ГУП «Мосгортран...   \n",
       "3   ГУП «Московский метрополитен», ГУП «Мосгортран...   \n",
       "\n",
       "                                  Наименование тарифа  \\\n",
       "20                               «Единый» на 365 дней   \n",
       "5                                «Единый» на 365 дней   \n",
       "26                                  «ТАТ» на 365 дней   \n",
       "19                                «Единый» на 90 дней   \n",
       "4                                 «Единый» на 90 дней   \n",
       "25                                   «ТАТ» на 90 дней   \n",
       "33  Единый льготный проездной билет для обучающихс...   \n",
       "18                                «Единый» на 30 дней   \n",
       "1                        «Единый» не более 60 поездок   \n",
       "3                                 «Единый» на 30 дней   \n",
       "\n",
       "                                      Типа транспорта  Стоимость билетов  \\\n",
       "20  Метрополитен, монорельс, МЦК, автобус, трамвай...              25700   \n",
       "5   Метрополитен, монорельс, МЦК, автобус, трамвай...              20500   \n",
       "26                       Автобус, электробус, трамвай              14750   \n",
       "19  Метрополитен, монорельс, МЦК, автобус, трамвай...               8850   \n",
       "4   Метрополитен, монорельс, МЦК, автобус, трамвай...               6950   \n",
       "25                       Автобус, электробус, трамвай               4800   \n",
       "33  Метрополитен, монорельс, МЦК, автобус, трамвай...               3610   \n",
       "18  Метрополитен, монорельс, МЦК, автобус, трамвай...               3450   \n",
       "1   Метрополитен, монорельс, МЦК, автобус, трамвай...               3420   \n",
       "3   Метрополитен, монорельс, МЦК, автобус, трамвай...               2870   \n",
       "\n",
       "                                     Начало активации  \n",
       "20  365 дней с момент первого прохода, но не более...  \n",
       "5   365 дней с момент первого прохода, но не более...  \n",
       "26  365 дней с момент первого прохода, но не более...  \n",
       "19  90 дней с момент первого прохода, но не более ...  \n",
       "4   90 дней с момент первого прохода, но не более ...  \n",
       "25  90 дней с момент первого прохода, но не более ...  \n",
       "33  90 дней с момент первого прохода, но не более ...  \n",
       "18  30 дней с момент первого прохода, но не более ...  \n",
       "1                       45 дней, включая день продажи  \n",
       "3   30 дней с момент первого прохода, но не более ...  "
      ]
     },
     "execution_count": 50,
     "metadata": {},
     "output_type": "execute_result"
    }
   ],
   "source": [
    "df_tickets.sort_values(by='Стоимость билетов', ascending=False)[:10]"
   ]
  },
  {
   "cell_type": "code",
   "execution_count": null,
   "id": "e1ff5ed2-4892-4b60-abea-ddf104138f9e",
   "metadata": {},
   "outputs": [],
   "source": []
  }
 ],
 "metadata": {
  "kernelspec": {
   "display_name": "venv",
   "language": "python",
   "name": "python3"
  },
  "language_info": {
   "codemirror_mode": {
    "name": "ipython",
    "version": 3
   },
   "file_extension": ".py",
   "mimetype": "text/x-python",
   "name": "python",
   "nbconvert_exporter": "python",
   "pygments_lexer": "ipython3",
   "version": "3.10.12"
  }
 },
 "nbformat": 4,
 "nbformat_minor": 5
}
