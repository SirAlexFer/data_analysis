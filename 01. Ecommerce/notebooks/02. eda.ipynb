{
 "cells": [
  {
   "cell_type": "markdown",
   "metadata": {},
   "source": [
    "## EDA"
   ]
  },
  {
   "cell_type": "code",
   "execution_count": 7,
   "metadata": {},
   "outputs": [],
   "source": [
    "import os\n",
    "\n",
    "import pandas as pd"
   ]
  },
  {
   "cell_type": "markdown",
   "metadata": {},
   "source": [
    "### Config"
   ]
  },
  {
   "cell_type": "code",
   "execution_count": 8,
   "metadata": {},
   "outputs": [],
   "source": [
    "if 'chdir_done' not in globals():\n",
    "    os.chdir(\"..\")\n",
    "    chdir_done = True\n",
    "\n",
    "work_directory = os.getcwd()"
   ]
  },
  {
   "cell_type": "markdown",
   "metadata": {},
   "source": [
    "### Constants"
   ]
  },
  {
   "cell_type": "code",
   "execution_count": 9,
   "metadata": {},
   "outputs": [],
   "source": [
    "CLEAN_FILE = 'data/clear_data.pkl'"
   ]
  },
  {
   "cell_type": "markdown",
   "metadata": {},
   "source": [
    "### Import and check data"
   ]
  },
  {
   "cell_type": "code",
   "execution_count": 11,
   "metadata": {},
   "outputs": [],
   "source": [
    "df_ecom = pd.read_pickle(CLEAN_FILE)"
   ]
  },
  {
   "cell_type": "code",
   "execution_count": 13,
   "metadata": {},
   "outputs": [
    {
     "data": {
      "text/html": [
       "<div>\n",
       "<style scoped>\n",
       "    .dataframe tbody tr th:only-of-type {\n",
       "        vertical-align: middle;\n",
       "    }\n",
       "\n",
       "    .dataframe tbody tr th {\n",
       "        vertical-align: top;\n",
       "    }\n",
       "\n",
       "    .dataframe thead th {\n",
       "        text-align: right;\n",
       "    }\n",
       "</style>\n",
       "<table border=\"1\" class=\"dataframe\">\n",
       "  <thead>\n",
       "    <tr style=\"text-align: right;\">\n",
       "      <th></th>\n",
       "      <th>user_id</th>\n",
       "      <th>product_id</th>\n",
       "      <th>category</th>\n",
       "      <th>price</th>\n",
       "      <th>discount</th>\n",
       "      <th>final_price</th>\n",
       "      <th>payment_method</th>\n",
       "      <th>purchase_date</th>\n",
       "    </tr>\n",
       "  </thead>\n",
       "  <tbody>\n",
       "    <tr>\n",
       "      <th>0</th>\n",
       "      <td>337c166f</td>\n",
       "      <td>f414122f-e</td>\n",
       "      <td>Sports</td>\n",
       "      <td>36.53</td>\n",
       "      <td>15</td>\n",
       "      <td>31.05</td>\n",
       "      <td>Net Banking</td>\n",
       "      <td>2024-11-12</td>\n",
       "    </tr>\n",
       "    <tr>\n",
       "      <th>1</th>\n",
       "      <td>d38a19bf</td>\n",
       "      <td>fde50f9c-5</td>\n",
       "      <td>Clothing</td>\n",
       "      <td>232.79</td>\n",
       "      <td>20</td>\n",
       "      <td>186.23</td>\n",
       "      <td>Net Banking</td>\n",
       "      <td>2024-02-09</td>\n",
       "    </tr>\n",
       "    <tr>\n",
       "      <th>2</th>\n",
       "      <td>d7f5f0b0</td>\n",
       "      <td>0d96fc90-3</td>\n",
       "      <td>Sports</td>\n",
       "      <td>317.02</td>\n",
       "      <td>25</td>\n",
       "      <td>237.76</td>\n",
       "      <td>Credit Card</td>\n",
       "      <td>2024-09-01</td>\n",
       "    </tr>\n",
       "    <tr>\n",
       "      <th>3</th>\n",
       "      <td>395d4994</td>\n",
       "      <td>964fc44b-d</td>\n",
       "      <td>Toys</td>\n",
       "      <td>173.19</td>\n",
       "      <td>25</td>\n",
       "      <td>129.89</td>\n",
       "      <td>UPI</td>\n",
       "      <td>2024-04-01</td>\n",
       "    </tr>\n",
       "    <tr>\n",
       "      <th>4</th>\n",
       "      <td>a83c145c</td>\n",
       "      <td>d70e2fc6-e</td>\n",
       "      <td>Beauty</td>\n",
       "      <td>244.80</td>\n",
       "      <td>20</td>\n",
       "      <td>195.84</td>\n",
       "      <td>Net Banking</td>\n",
       "      <td>2024-09-27</td>\n",
       "    </tr>\n",
       "  </tbody>\n",
       "</table>\n",
       "</div>"
      ],
      "text/plain": [
       "    user_id  product_id  category   price  discount  final_price  \\\n",
       "0  337c166f  f414122f-e    Sports   36.53        15        31.05   \n",
       "1  d38a19bf  fde50f9c-5  Clothing  232.79        20       186.23   \n",
       "2  d7f5f0b0  0d96fc90-3    Sports  317.02        25       237.76   \n",
       "3  395d4994  964fc44b-d      Toys  173.19        25       129.89   \n",
       "4  a83c145c  d70e2fc6-e    Beauty  244.80        20       195.84   \n",
       "\n",
       "  payment_method purchase_date  \n",
       "0    Net Banking    2024-11-12  \n",
       "1    Net Banking    2024-02-09  \n",
       "2    Credit Card    2024-09-01  \n",
       "3            UPI    2024-04-01  \n",
       "4    Net Banking    2024-09-27  "
      ]
     },
     "execution_count": 13,
     "metadata": {},
     "output_type": "execute_result"
    }
   ],
   "source": [
    "df_ecom.head()"
   ]
  },
  {
   "cell_type": "code",
   "execution_count": 15,
   "metadata": {},
   "outputs": [
    {
     "name": "stdout",
     "output_type": "stream",
     "text": [
      "<class 'pandas.core.frame.DataFrame'>\n",
      "RangeIndex: 3660 entries, 0 to 3659\n",
      "Data columns (total 8 columns):\n",
      " #   Column          Non-Null Count  Dtype         \n",
      "---  ------          --------------  -----         \n",
      " 0   user_id         3660 non-null   object        \n",
      " 1   product_id      3660 non-null   object        \n",
      " 2   category        3660 non-null   object        \n",
      " 3   price           3660 non-null   float64       \n",
      " 4   discount        3660 non-null   int64         \n",
      " 5   final_price     3660 non-null   float64       \n",
      " 6   payment_method  3660 non-null   object        \n",
      " 7   purchase_date   3660 non-null   datetime64[ns]\n",
      "dtypes: datetime64[ns](1), float64(2), int64(1), object(4)\n",
      "memory usage: 228.9+ KB\n"
     ]
    }
   ],
   "source": [
    "df_ecom.info()"
   ]
  },
  {
   "cell_type": "markdown",
   "metadata": {},
   "source": [
    "#### Проверка на пропуски"
   ]
  },
  {
   "cell_type": "code",
   "execution_count": 16,
   "metadata": {},
   "outputs": [
    {
     "data": {
      "text/plain": [
       "user_id           0\n",
       "product_id        0\n",
       "category          0\n",
       "price             0\n",
       "discount          0\n",
       "final_price       0\n",
       "payment_method    0\n",
       "purchase_date     0\n",
       "dtype: int64"
      ]
     },
     "execution_count": 16,
     "metadata": {},
     "output_type": "execute_result"
    }
   ],
   "source": [
    "df_ecom.isnull().sum()"
   ]
  },
  {
   "cell_type": "markdown",
   "metadata": {},
   "source": [
    "<div class=\"alert alert-success\">\n",
    "    <strong>Итого</strong>: Пропусков нет\n",
    "</div>"
   ]
  },
  {
   "cell_type": "markdown",
   "metadata": {},
   "source": [
    "#### Проверка на дубликаты"
   ]
  },
  {
   "cell_type": "code",
   "execution_count": 22,
   "metadata": {},
   "outputs": [
    {
     "data": {
      "text/plain": [
       "np.int64(0)"
      ]
     },
     "execution_count": 22,
     "metadata": {},
     "output_type": "execute_result"
    }
   ],
   "source": [
    "df_ecom.duplicated().sum()"
   ]
  },
  {
   "cell_type": "markdown",
   "metadata": {},
   "source": [
    "<div class=\"alert alert-success\">\n",
    "    <strong>Итого</strong>: Дубликатов нет\n",
    "</div>"
   ]
  },
  {
   "cell_type": "code",
   "execution_count": null,
   "metadata": {},
   "outputs": [],
   "source": []
  }
 ],
 "metadata": {
  "kernelspec": {
   "display_name": "venv",
   "language": "python",
   "name": "python3"
  },
  "language_info": {
   "codemirror_mode": {
    "name": "ipython",
    "version": 3
   },
   "file_extension": ".py",
   "mimetype": "text/x-python",
   "name": "python",
   "nbconvert_exporter": "python",
   "pygments_lexer": "ipython3",
   "version": "3.10.12"
  }
 },
 "nbformat": 4,
 "nbformat_minor": 2
}
